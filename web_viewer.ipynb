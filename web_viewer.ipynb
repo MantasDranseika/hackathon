{
 "cells": [
  {
   "cell_type": "markdown",
   "metadata": {},
   "source": [
    "#  Pointcloud web viewer\n",
    "\n",
    "Hackathon 22-08 - *Ada, Tomas, Mantas*.\n",
    "Program reads data from .laz file (in Jupyter notebook). Voila creates stand alone web applicatoin to view 3D data. "
   ]
  },
  {
   "cell_type": "code",
   "execution_count": 1,
   "metadata": {},
   "outputs": [],
   "source": [
    "import numpy as np\n",
    "import ipyvolume as ipv\n",
    "from laspy import CopcReader, Bounds"
   ]
  },
  {
   "cell_type": "code",
   "execution_count": 2,
   "metadata": {},
   "outputs": [],
   "source": [
    "def create_query(header):\n",
    "    \"\"\"\n",
    "    Function to read copc standart data\n",
    "    \"\"\"\n",
    "    querys = []\n",
    "\n",
    "    sizes = header.maxs - header.mins\n",
    "\n",
    "    # Bottom left\n",
    "    query_bounds = Bounds(\n",
    "        mins=header.mins,\n",
    "        maxs=header.mins + sizes / 2\n",
    "    )\n",
    "    query_bounds.maxs[2] = header.maxs[2]\n",
    "    querys.append(query_bounds)\n",
    "\n",
    "    # Top Right\n",
    "    # Bounds can also be 2D (then all Z are considered)\n",
    "    query_bounds = Bounds(\n",
    "        mins=(header.mins + sizes / 2)[:2],\n",
    "        maxs=header.maxs[:2]\n",
    "    )\n",
    "    querys.append(query_bounds)\n",
    "\n",
    "    return querys\n"
   ]
  },
  {
   "cell_type": "code",
   "execution_count": 3,
   "metadata": {},
   "outputs": [
    {
     "data": {
      "application/vnd.jupyter.widget-view+json": {
       "model_id": "180006d5e20b4d7fb3cb2812c7cf9875",
       "version_major": 2,
       "version_minor": 0
      },
      "text/plain": [
       "VBox(children=(Figure(camera=PerspectiveCamera(fov=46.0, position=(0.0, 0.0, 2.0), projectionMatrix=(1.0, 0.0,…"
      ]
     },
     "metadata": {},
     "output_type": "display_data"
    }
   ],
   "source": [
    "path = \"millsite.copc.laz\"\n",
    "\n",
    "with CopcReader.open(path) as crdr:\n",
    "\n",
    "    querys = create_query(crdr.header)\n",
    "\n",
    "    for i, query_bounds in enumerate(querys):\n",
    "        resolution = None\n",
    "        points_cloud = crdr.query(query_bounds, resolution=resolution)\n",
    "\n",
    "X = points_cloud.x\n",
    "Y = points_cloud.y\n",
    "Z = points_cloud.z\n",
    "n = 0  # start points range\n",
    "m = 400000  # end points range\n",
    "\n",
    "points = np.array(np.vstack((X[n:m]-np.min(X[n:m]), Y[n:m]-np.min(Y[n:m]),\n",
    "                                 Z[n:m]-np.min(Z[n:m]))).transpose())\n",
    "\n",
    "x = points[:, 0]\n",
    "y = points[:, 1]\n",
    "z = points[:, 2]\n",
    "\n",
    "# Plot data\n",
    "fig = ipv.figure(width = 1000, height=1000)\n",
    "scatter = ipv.scatter(x, y, z,  marker=\"sphere\")\n",
    "ipv.show()\n"
   ]
  }
 ],
 "metadata": {
  "kernelspec": {
   "display_name": "Python 3.8.10 64-bit",
   "language": "python",
   "name": "python3"
  },
  "language_info": {
   "codemirror_mode": {
    "name": "ipython",
    "version": 3
   },
   "file_extension": ".py",
   "mimetype": "text/x-python",
   "name": "python",
   "nbconvert_exporter": "python",
   "pygments_lexer": "ipython3",
   "version": "3.8.10"
  },
  "orig_nbformat": 4,
  "vscode": {
   "interpreter": {
    "hash": "916dbcbb3f70747c44a77c7bcd40155683ae19c65e1c03b4aa3499c5328201f1"
   }
  }
 },
 "nbformat": 4,
 "nbformat_minor": 2
}
